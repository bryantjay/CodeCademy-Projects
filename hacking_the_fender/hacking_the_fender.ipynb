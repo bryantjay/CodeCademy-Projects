{
 "cells": [
  {
   "cell_type": "markdown",
   "metadata": {},
   "source": [
    "# Hacking The Fender\n",
    "\n",
    "The Fender, a notorious computer hacker and general villain of the people, has compromised several top-secret passwords including your own. Your mission, should you choose to accept it, is threefold. You must acquire access to The Fender‘s systems, you must update his \"passwords.csv\" file to scramble the secret data. The last thing you need to do is add the signature of Slash Null, a different hacker whose nefarious deeds could be very conveniently halted by The Fender if they viewed Slash Null as a threat.\n",
    "\n",
    "Use your knowledge of working with Python files to retrieve, manipulate, obscure, and create data in your quest for justice. Work with CSV files and other text files in this exploration of the strength of Python file programming."
   ]
  },
  {
   "cell_type": "markdown",
   "metadata": {},
   "source": [
    "### Task 1\n",
    "Are you there? We’ve opened up a communications link to The Fender‘s secret computer. We need you to write a program that will read in the compromised usernames and passwords that are stored in a file called `\"passwords.csv\"`.\n",
    "\n",
    "First import the `csv` module, since we’ll be needing it to parse the data."
   ]
  },
  {
   "cell_type": "code",
   "execution_count": 1,
   "metadata": {},
   "outputs": [],
   "source": [
    "import csv"
   ]
  },
  {
   "cell_type": "markdown",
   "metadata": {},
   "source": [
    "### Task 2\n",
    "We need to create a list of users whose passwords have been compromised, create a new list and save it to the variable `compromised_users`."
   ]
  },
  {
   "cell_type": "code",
   "execution_count": 2,
   "metadata": {},
   "outputs": [],
   "source": [
    "compromised_users = []"
   ]
  },
  {
   "cell_type": "markdown",
   "metadata": {},
   "source": [
    "### Task 3 - 6\n",
    "Next we’ll need you to open up the file itself. Store it in a file object called `password_file`. Pass the `password_file` object holder to our CSV reader for parsing. Save the parsed `csv.DictReader` object as `password_csv`.\n",
    "\n",
    "Iterate through each of the lines in the CSV. Create a `for` loop and save each row of the CSV into the temporary variable `password_row`. Inside your `for` loop, print out `password_row['Username']`. This is the username of the person whose password was compromised.\n",
    "\n",
    "Run your code, do you see a list of usernames?"
   ]
  },
  {
   "cell_type": "code",
   "execution_count": 3,
   "metadata": {},
   "outputs": [
    {
     "name": "stdout",
     "output_type": "stream",
     "text": [
      "jean49\n",
      "haydenashley\n",
      "michaelastephens\n",
      "denisephillips\n",
      "andrew24\n",
      "kaylaabbott\n",
      "tmartinez\n",
      "mholden\n",
      "randygilbert\n",
      "watsonlouis\n",
      "mdavis\n",
      "patrickprice\n",
      "kgriffith\n",
      "hannasarah\n",
      "xaviermartin\n",
      "hrodriguez\n",
      "erodriguez\n",
      "danielleclark\n",
      "timothy26\n",
      "elizabeth19\n"
     ]
    }
   ],
   "source": [
    "with open(\"passwords.csv\") as password_file:\n",
    "  password_csv = csv.DictReader(password_file)\n",
    "  for password_row in password_csv:\n",
    "    print(password_row['Username'])"
   ]
  },
  {
   "cell_type": "markdown",
   "metadata": {},
   "source": [
    "### Task 7\n",
    "Remove the `print` statement. We want to add each username to the list of `compromised_users`. Use the list’s `.append()` method to add the username to `compromised_users` instead of printing them."
   ]
  },
  {
   "cell_type": "code",
   "execution_count": 4,
   "metadata": {},
   "outputs": [
    {
     "name": "stdout",
     "output_type": "stream",
     "text": [
      "['jean49', 'haydenashley', 'michaelastephens', 'denisephillips', 'andrew24', 'kaylaabbott', 'tmartinez', 'mholden', 'randygilbert', 'watsonlouis', 'mdavis', 'patrickprice', 'kgriffith', 'hannasarah', 'xaviermartin', 'hrodriguez', 'erodriguez', 'danielleclark', 'timothy26', 'elizabeth19']\n"
     ]
    }
   ],
   "source": [
    "with open(\"passwords.csv\") as password_file:\n",
    "  password_csv = csv.DictReader(password_file)\n",
    "  for password_row in password_csv:\n",
    "    compromised_users.append(password_row['Username'])\n",
    "\n",
    "print(compromised_users)"
   ]
  },
  {
   "cell_type": "markdown",
   "metadata": {},
   "source": [
    "### Task 8 - 11\n",
    "Exit out of your `with` block for `\"passwords.csv\"`. We have all the data we need from that file. Start a new `with` block, opening a file called `compromised_users.txt`. Open this file in write-mode, saving the file object as `compromised_user_file`.\n",
    "\n",
    "Inside the new context-managed block opened by the `with` statement start a new `for` loop. Iterate over each of your `compromised_users`. Write the username of each `compromised_user` in `compromised_users` to `compromised_user_file`."
   ]
  },
  {
   "cell_type": "code",
   "execution_count": 5,
   "metadata": {},
   "outputs": [],
   "source": [
    "with open(\"compromised_users.txt\", 'w') as compromised_user_file:\n",
    "  for user in compromised_users:\n",
    "    compromised_user_file.write(user)"
   ]
  },
  {
   "cell_type": "markdown",
   "metadata": {},
   "source": [
    "Exit out of that `with` block. You’re doing great so far! We’ve got the data we need to employ as insurance against The Fender."
   ]
  },
  {
   "cell_type": "markdown",
   "metadata": {},
   "source": [
    "## Notifying the Boss\n",
    "\n",
    "### Task 12\n",
    "Your boss needs to know that you were successful in retrieving that compromised data. We’ll need to send him an encoded message over the internet. Let’s use JSON to do that.\n",
    "\n",
    "First we’ll need to import the `json` module."
   ]
  },
  {
   "cell_type": "code",
   "execution_count": 6,
   "metadata": {},
   "outputs": [],
   "source": [
    "import json"
   ]
  },
  {
   "cell_type": "markdown",
   "metadata": {},
   "source": [
    "### Task 13 - 15\n",
    "Open a new JSON file in write-mode called `boss_message.json`. Save the file object to the variable `boss_message`.\n",
    "\n",
    "Create a Python dictionary object within your with statement that relays a boss message. Call this `boss_message_dict`. Give it a `\"recipient\"` key with a value `\"The Boss\"`. Also give it a `\"message\"` key with the value `\"Mission Success\"`.\n",
    "\n",
    "Write out `boss_message_dict` to `boss_message` using `json.dump()`."
   ]
  },
  {
   "cell_type": "code",
   "execution_count": 7,
   "metadata": {},
   "outputs": [],
   "source": [
    "with open(\"boss_message.json\", \"w\") as boss_message:\n",
    "  boss_message_dict = {\n",
    "    \"recipient\" : \"The Boss\",\n",
    "    \"message\" : \"Mission Success\"\n",
    "  }\n",
    "  json.dump(boss_message_dict, boss_message)"
   ]
  },
  {
   "cell_type": "markdown",
   "metadata": {},
   "source": [
    "## Scrambling the Password\n",
    "\n",
    "### Task 16 - 19\n",
    "Now that we’ve safely recovered the compromised users we’ll want to remove the `\"passwords.csv\"` file completely. Create a new `with` block and open `\"new_passwords.csv\"` in write-mode. Save the file object to a variable called `new_passwords_obj`.\n",
    "\n",
    "Enemy of the people, Slash Null, is who we want The Fender to think was behind this attack. He has a signature, whenever he hacks someone he adds this signature to one of the files he touches. Here is the signature:"
   ]
  },
  {
   "cell_type": "code",
   "execution_count": 8,
   "metadata": {},
   "outputs": [],
   "source": [
    "#  _  _     ___   __  ____             \n",
    "# / )( \\   / __) /  \\(_  _)            \n",
    "# ) \\/ (  ( (_ \\(  O ) )(              \n",
    "# \\____/   \\___/ \\__/ (__)             \n",
    "#  _  _   __    ___  __ _  ____  ____  \n",
    "# / )( \\ / _\\  / __)(  / )(  __)(    \\ \n",
    "# ) __ (/    \\( (__  )  (  ) _)  ) D ( \n",
    "# \\_)(_/\\_/\\_/ \\___)(__\\_)(____)(____/ \n",
    "#         ____  __     __   ____  _  _ \n",
    "#  ___   / ___)(  )   / _\\ / ___)/ )( \\\n",
    "# (___)  \\___ \\/ (_/\\/    \\\\___ \\) __ (\n",
    "#        (____/\\____/\\_/\\_/(____/\\_)(_/\n",
    "#  __ _  _  _  __    __                \n",
    "# (  ( \\/ )( \\(  )  (  )               \n",
    "# /    /) \\/ (/ (_/\\/ (_/\\             \n",
    "# \\_)__)\\____/\\____/\\____/\n",
    "#"
   ]
  },
  {
   "cell_type": "markdown",
   "metadata": {},
   "source": [
    "Save that as a multiline string to the variable `slash_null_sig`. Write `slash_null_sig` to `new_passwords_obj`. Now we have the file to replace `passwords.csv` with!"
   ]
  },
  {
   "cell_type": "code",
   "execution_count": 9,
   "metadata": {},
   "outputs": [
    {
     "name": "stderr",
     "output_type": "stream",
     "text": [
      "<>:2: SyntaxWarning: invalid escape sequence '\\ '\n",
      "<>:2: SyntaxWarning: invalid escape sequence '\\ '\n",
      "C:\\Users\\sbrya\\AppData\\Local\\Temp\\ipykernel_28040\\2801487469.py:2: SyntaxWarning: invalid escape sequence '\\ '\n",
      "  slash_null_sig = \"\"\"\n"
     ]
    }
   ],
   "source": [
    "with open(\"new_passwords.csv\", \"w\") as new_passwords_obj:\n",
    "  slash_null_sig = \"\"\"\n",
    " _  _     ___   __  ____             \n",
    "/ )( \\   / __) /  \\(_  _)            \n",
    ") \\/ (  ( (_ \\(  O ) )(              \n",
    "\\____/   \\___/ \\__/ (__)             \n",
    " _  _   __    ___  __ _  ____  ____  \n",
    "/ )( \\ / _\\  / __)(  / )(  __)(    \\ \n",
    ") __ (/    \\( (__  )  (  ) _)  ) D ( \n",
    "\\_)(_/\\_/\\_/ \\___)(__\\_)(____)(____/ \n",
    "        ____  __     __   ____  _  _ \n",
    " ___   / ___)(  )   / _\\ / ___)/ )( \\\\\n",
    "(___)  \\___ \\/ (_/\\/    \\\\\\___ \\) __ (\n",
    "       (____/\\____/\\_/\\_/(____/\\_)(_/\n",
    " __ _  _  _  __    __                \n",
    "(  ( \\/ )( \\(  )  (  )               \n",
    "/    /) \\/ (/ (_/\\/ (_/\\             \n",
    "\\_)__)\\____/\\____/\\____/\n",
    "\"\"\"\n",
    "  new_passwords_obj.write(slash_null_sig)"
   ]
  },
  {
   "cell_type": "markdown",
   "metadata": {},
   "source": [
    "What an incredible success! We’ll take care of moving the new passwords file over the old one in case you want to practice hacking The Fender in the future.\n",
    "\n",
    "Thank you for your service, programmer."
   ]
  }
 ],
 "metadata": {
  "kernelspec": {
   "display_name": "base",
   "language": "python",
   "name": "python3"
  },
  "language_info": {
   "codemirror_mode": {
    "name": "ipython",
    "version": 3
   },
   "file_extension": ".py",
   "mimetype": "text/x-python",
   "name": "python",
   "nbconvert_exporter": "python",
   "pygments_lexer": "ipython3",
   "version": "3.12.3"
  }
 },
 "nbformat": 4,
 "nbformat_minor": 2
}
