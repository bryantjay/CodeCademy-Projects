{
 "cells": [
  {
   "cell_type": "markdown",
   "metadata": {},
   "source": [
    "# Hacking The Fender\n",
    "\n",
    "The Fender, a notorious computer hacker and general villain of the people, has compromised several top-secret passwords including your own. Your mission, should you choose to accept it, is threefold. You must acquire access to The Fender‘s systems, you must update his \"passwords.csv\" file to scramble the secret data. The last thing you need to do is add the signature of Slash Null, a different hacker whose nefarious deeds could be very conveniently halted by The Fender if they viewed Slash Null as a threat.\n",
    "\n",
    "Use your knowledge of working with Python files to retrieve, manipulate, obscure, and create data in your quest for justice. Work with CSV files and other text files in this exploration of the strength of Python file programming."
   ]
  },
  {
   "cell_type": "markdown",
   "metadata": {},
   "source": [
    "### Task 1\n",
    "Are you there? We’ve opened up a communications link to The Fender‘s secret computer. We need you to write a program that will read in the compromised usernames and passwords that are stored in a file called `\"passwords.csv\"`.\n",
    "\n",
    "First import the `csv` module, since we’ll be needing it to parse the data."
   ]
  },
  {
   "cell_type": "code",
   "execution_count": null,
   "metadata": {},
   "outputs": [],
   "source": [
    "import csv"
   ]
  },
  {
   "cell_type": "markdown",
   "metadata": {},
   "source": [
    "### Task 2\n",
    "We need to create a list of users whose passwords have been compromised, create a new list and save it to the variable `compromised_users`."
   ]
  },
  {
   "cell_type": "code",
   "execution_count": null,
   "metadata": {},
   "outputs": [],
   "source": []
  },
  {
   "cell_type": "markdown",
   "metadata": {},
   "source": [
    "### Task 3\n",
    "Next we’ll need you to open up the file itself. Store it in a file object called `password_file`."
   ]
  },
  {
   "cell_type": "code",
   "execution_count": null,
   "metadata": {},
   "outputs": [],
   "source": []
  },
  {
   "cell_type": "markdown",
   "metadata": {},
   "source": [
    "### Task 4\n",
    "Pass the `password_file` object holder to our CSV reader for parsing. Save the parsed `csv.DictReader` object as `password_csv`."
   ]
  },
  {
   "cell_type": "code",
   "execution_count": null,
   "metadata": {},
   "outputs": [],
   "source": []
  },
  {
   "cell_type": "markdown",
   "metadata": {},
   "source": [
    "### Task 5\n",
    "Now we’ll want to iterate through each of the lines in the CSV.\n",
    "\n",
    "Create a `for` loop and save each row of the CSV into the temporary variable `password_row`."
   ]
  },
  {
   "cell_type": "code",
   "execution_count": null,
   "metadata": {},
   "outputs": [],
   "source": []
  },
  {
   "cell_type": "markdown",
   "metadata": {},
   "source": [
    "### Task 6\n",
    "Inside your `for` loop, print out `password_row['Username']`. This is the username of the person whose password was compromised.\n",
    "\n",
    "Run your code, do you see a list of usernames?"
   ]
  },
  {
   "cell_type": "code",
   "execution_count": null,
   "metadata": {},
   "outputs": [],
   "source": []
  },
  {
   "cell_type": "markdown",
   "metadata": {},
   "source": [
    "### Task 7\n",
    "Remove the `print` statement. We want to add each username to the list of `compromised_users`. Use the list’s `.append()` method to add the username to `compromised_users` instead of printing them."
   ]
  },
  {
   "cell_type": "code",
   "execution_count": null,
   "metadata": {},
   "outputs": [],
   "source": []
  },
  {
   "cell_type": "markdown",
   "metadata": {},
   "source": [
    "### Task 8\n",
    "Exit out of your `with` block for `\"passwords.csv\"`. We have all the data we need from that file.\n",
    "\n",
    "Start a new `with` block, opening a file called `compromised_users.txt`. Open this file in write-mode, saving the file object as `compromised_user_file`."
   ]
  },
  {
   "cell_type": "code",
   "execution_count": null,
   "metadata": {},
   "outputs": [],
   "source": []
  },
  {
   "cell_type": "markdown",
   "metadata": {},
   "source": [
    "### Task 9\n",
    "Inside the new context-managed block opened by the `with` statement start a new `for` loop.\n",
    "\n",
    "Iterate over each of your `compromised_users`."
   ]
  },
  {
   "cell_type": "code",
   "execution_count": null,
   "metadata": {},
   "outputs": [],
   "source": []
  },
  {
   "cell_type": "markdown",
   "metadata": {},
   "source": [
    "### Task 10\n",
    "Write the username of each `compromised_user` in `compromised_users` to `compromised_user_file`."
   ]
  },
  {
   "cell_type": "code",
   "execution_count": null,
   "metadata": {},
   "outputs": [],
   "source": []
  },
  {
   "cell_type": "markdown",
   "metadata": {},
   "source": [
    "### Task 11\n",
    "Exit out of that `with` block. You’re doing great so far! We’ve got the data we need to employ as insurance against The Fender."
   ]
  },
  {
   "cell_type": "code",
   "execution_count": null,
   "metadata": {},
   "outputs": [],
   "source": []
  },
  {
   "cell_type": "markdown",
   "metadata": {},
   "source": [
    "## Notifying the Boss\n",
    "\n",
    "### Task 12\n",
    "Your boss needs to know that you were successful in retrieving that compromised data. We’ll need to send him an encoded message over the internet. Let’s use JSON to do that.\n",
    "\n",
    "First we’ll need to import the `json` module."
   ]
  },
  {
   "cell_type": "code",
   "execution_count": null,
   "metadata": {},
   "outputs": [],
   "source": []
  },
  {
   "cell_type": "markdown",
   "metadata": {},
   "source": [
    "### Task 13\n",
    "Open a new JSON file in write-mode called `boss_message.json`. Save the file object to the variable `boss_message`."
   ]
  },
  {
   "cell_type": "code",
   "execution_count": null,
   "metadata": {},
   "outputs": [],
   "source": []
  },
  {
   "cell_type": "markdown",
   "metadata": {},
   "source": [
    "### Task 14\n",
    "Create a Python dictionary object within your with statement that relays a boss message. Call this `boss_message_dict`.\n",
    "\n",
    "Give it a `\"recipient\"` key with a value `\"The Boss\"`.\n",
    "\n",
    "Also give it a `\"message\"` key with the value `\"Mission Success\"`."
   ]
  },
  {
   "cell_type": "code",
   "execution_count": null,
   "metadata": {},
   "outputs": [],
   "source": []
  },
  {
   "cell_type": "markdown",
   "metadata": {},
   "source": [
    "### Task 15\n",
    "Write out `boss_message_dict` to `boss_message` using `json.dump()`."
   ]
  },
  {
   "cell_type": "code",
   "execution_count": null,
   "metadata": {},
   "outputs": [],
   "source": []
  },
  {
   "cell_type": "markdown",
   "metadata": {},
   "source": [
    "## Scrambling the Password\n",
    "\n",
    "### Task 16\n",
    "Now that we’ve safely recovered the compromised users we’ll want to remove the `\"passwords.csv\"` file completely.\n",
    "\n",
    "Create a new `with` block and open `\"new_passwords.csv\"` in write-mode. Save the file object to a variable called `new_passwords_obj`."
   ]
  },
  {
   "cell_type": "code",
   "execution_count": null,
   "metadata": {},
   "outputs": [],
   "source": []
  },
  {
   "cell_type": "markdown",
   "metadata": {},
   "source": [
    "### Task 17\n",
    "Enemy of the people, Slash Null, is who we want The Fender to think was behind this attack. He has a signature, whenever he hacks someone he adds this signature to one of the files he touches. Here is the signature:"
   ]
  },
  {
   "cell_type": "code",
   "execution_count": null,
   "metadata": {},
   "outputs": [],
   "source": [
    "#  _  _     ___   __  ____             \n",
    "# / )( \\   / __) /  \\(_  _)            \n",
    "# ) \\/ (  ( (_ \\(  O ) )(              \n",
    "# \\____/   \\___/ \\__/ (__)             \n",
    "#  _  _   __    ___  __ _  ____  ____  \n",
    "# / )( \\ / _\\  / __)(  / )(  __)(    \\ \n",
    "# ) __ (/    \\( (__  )  (  ) _)  ) D ( \n",
    "# \\_)(_/\\_/\\_/ \\___)(__\\_)(____)(____/ \n",
    "#         ____  __     __   ____  _  _ \n",
    "#  ___   / ___)(  )   / _\\ / ___)/ )( \\\n",
    "# (___)  \\___ \\/ (_/\\/    \\\\___ \\) __ (\n",
    "#        (____/\\____/\\_/\\_/(____/\\_)(_/\n",
    "#  __ _  _  _  __    __                \n",
    "# (  ( \\/ )( \\(  )  (  )               \n",
    "# /    /) \\/ (/ (_/\\/ (_/\\             \n",
    "# \\_)__)\\____/\\____/\\____/\n",
    "#"
   ]
  },
  {
   "cell_type": "markdown",
   "metadata": {},
   "source": [
    "Save that as a multiline string to the variable `slash_null_sig`."
   ]
  },
  {
   "cell_type": "code",
   "execution_count": null,
   "metadata": {},
   "outputs": [],
   "source": []
  },
  {
   "cell_type": "markdown",
   "metadata": {},
   "source": [
    "### Task 18\n",
    "Write `slash_null_sig` to `new_passwords_obj`. Now we have the file to replace `passwords.csv` with!"
   ]
  },
  {
   "cell_type": "code",
   "execution_count": null,
   "metadata": {},
   "outputs": [],
   "source": []
  },
  {
   "cell_type": "markdown",
   "metadata": {},
   "source": [
    "### Task 19\n",
    "What an incredible success! We’ll take care of moving the new passwords file over the old one in case you want to practice hacking The Fender in the future.\n",
    "\n",
    "Thank you for your service, programmer."
   ]
  },
  {
   "cell_type": "code",
   "execution_count": null,
   "metadata": {},
   "outputs": [],
   "source": []
  }
 ],
 "metadata": {
  "language_info": {
   "name": "python"
  }
 },
 "nbformat": 4,
 "nbformat_minor": 2
}
